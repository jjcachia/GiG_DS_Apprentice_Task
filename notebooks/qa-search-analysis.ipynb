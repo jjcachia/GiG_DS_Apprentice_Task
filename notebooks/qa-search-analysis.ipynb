{
 "cells": [
  {
   "cell_type": "markdown",
   "id": "1e7c3006",
   "metadata": {},
   "source": [
    "### Setting up Environment"
   ]
  },
  {
   "cell_type": "code",
   "execution_count": 1,
   "id": "a4e633bf",
   "metadata": {},
   "outputs": [],
   "source": [
    "import os\n",
    "import sys\n",
    "import pickle\n",
    "import pandas as pd\n",
    "\n",
    "sys.path.append(os.path.abspath(os.path.join(\"..\")))\n",
    "from src.utils import prepare_text, clean_text\n",
    "\n",
    "data_dir = os.path.abspath(os.path.join(\"..\", \"data\"))\n",
    "output_path = os.path.join(data_dir, \"cleaned_gig_docs.csv\")\n",
    "pickle_path = os.path.join(data_dir, \"gig_docs_tokenized.pkl\")"
   ]
  },
  {
   "cell_type": "markdown",
   "id": "15381409",
   "metadata": {},
   "source": [
    "### Simple keyword matching"
   ]
  },
  {
   "cell_type": "markdown",
   "id": "92129168",
   "metadata": {},
   "source": [
    "Here, we are counting the number of terms that match between the question and question/answer. We then return the answer that scored the highest count."
   ]
  },
  {
   "cell_type": "code",
   "execution_count": 2,
   "id": "ac46b143",
   "metadata": {},
   "outputs": [
    {
     "name": "stdout",
     "output_type": "stream",
     "text": [
      "Answer ID: 15\n",
      "Best answer found: SQL Connectivity is a service allowing partners' business and data analysts to gain full access to their transactional data and query it as required using dedicated instances.\n",
      "Answer ID: 26\n",
      "Best answer found: Net Gaming Revenue (NGR) is calculated as Gross Gaming Revenue minus bonuses and adjustments.\n"
     ]
    }
   ],
   "source": [
    "# Function to find the most relevant answer based on the user's question (using a TF approach)\n",
    "def find_answer(user_question):\n",
    "    answer_doc_id = term_frequency_matching(user_question)\n",
    "    answer = find_answer_by_id(answer_doc_id)\n",
    "    print(f\"Answer ID: {answer_doc_id}\")\n",
    "    return answer\n",
    "\n",
    "def term_frequency_matching(user_question):\n",
    "    question_tokens = prepare_text(user_question)\n",
    "\n",
    "    # Load the doc id and respective counters from the pickle file\n",
    "    with open(pickle_path, 'rb') as f:\n",
    "        tokenized_data = pickle.load(f)\n",
    "\n",
    "    best_score = -1\n",
    "    best_answer_id = None\n",
    "\n",
    "    for doc_id, doc_counter in tokenized_data.items():\n",
    "\n",
    "        score = sum(doc_counter[token] for token in question_tokens if token in doc_counter)\n",
    "\n",
    "        if score > best_score:\n",
    "            best_score = score\n",
    "            best_answer_id = doc_id\n",
    "\n",
    "    return best_answer_id\n",
    "\n",
    "# Function to find the answer based on the answer ID\n",
    "def find_answer_by_id(doc_id):\n",
    "    \"\"\"Finds the answer snippet by its ID.\"\"\"\n",
    "    # Load data from the CSV file\n",
    "    df = pd.read_csv(os.path.join(data_dir, \"cleaned_gig_docs.csv\"), index_col='Doc_ID')\n",
    "    return df.loc[doc_id, 'Answer_Snippet'] if doc_id in df.index else None\n",
    "\n",
    "\n",
    "# Example usage\n",
    "user_question = \"How do I connect to SQL?\"\n",
    "\n",
    "best_answer = find_answer(user_question)\n",
    "\n",
    "if best_answer:\n",
    "    print(f\"Best answer found: {best_answer}\")\n",
    "\n",
    "user_question = \"What is NGR?\"\n",
    "\n",
    "best_answer = find_answer(user_question)\n",
    "if best_answer:\n",
    "    print(f\"Best answer found: {best_answer}\")"
   ]
  },
  {
   "cell_type": "markdown",
   "id": "e5b7cffc",
   "metadata": {},
   "source": [
    "Searching based on the count of token matches favors longer question/answers. A simple change is to instead count the unique matches. "
   ]
  },
  {
   "cell_type": "code",
   "execution_count": 3,
   "id": "80a85384",
   "metadata": {},
   "outputs": [
    {
     "name": "stdout",
     "output_type": "stream",
     "text": [
      "Answer ID: 56\n",
      "Best answer found: Authorised users can connect using several options,  including ODBC/JDBC.\n",
      "Answer ID: 2\n",
      "Best answer found: Players are ranked from 1 to 5 based on KPIs like Monthly Total Deposit,  Turnover,  NGR,  Bonus Turned Real,  and Active Days,  processed for the previous 1-month and 3-months activity.\n"
     ]
    }
   ],
   "source": [
    "# Function to find the most relevant answer based on the user's question (using a TF approach)\n",
    "def find_answer(user_question):\n",
    "    answer_doc_id = unique_term_frequency_matching(user_question)\n",
    "    answer = find_answer_by_id(answer_doc_id)\n",
    "    print(f\"Answer ID: {answer_doc_id}\")\n",
    "    return answer\n",
    "\n",
    "def unique_term_frequency_matching(user_question):\n",
    "    question_unique_tokens = set(prepare_text(user_question))\n",
    "\n",
    "    # Load the doc id and respective counters from the pickle file\n",
    "    with open(pickle_path, 'rb') as f:\n",
    "        tokenized_data = pickle.load(f)\n",
    "\n",
    "    best_score = -1\n",
    "    best_answer_id = None\n",
    "\n",
    "    for doc_id, doc_counter in tokenized_data.items():\n",
    "        document_unique_tokens = set(doc_counter.keys())   \n",
    "        score = len(question_unique_tokens.intersection(document_unique_tokens))\n",
    "\n",
    "        if score > best_score:\n",
    "            best_score = score\n",
    "            best_answer_id = doc_id\n",
    "\n",
    "    return best_answer_id\n",
    "\n",
    "# Example usage\n",
    "user_question = \"How do I connect to SQL?\"\n",
    "\n",
    "best_answer = find_answer(user_question)\n",
    "\n",
    "if best_answer:\n",
    "    print(f\"Best answer found: {best_answer}\")\n",
    "\n",
    "user_question = \"What is NGR?\"\n",
    "\n",
    "best_answer = find_answer(user_question)\n",
    "if best_answer:\n",
    "    print(f\"Best answer found: {best_answer}\")"
   ]
  },
  {
   "cell_type": "markdown",
   "id": "5d5c40d8",
   "metadata": {},
   "source": [
    "### A more complex search"
   ]
  },
  {
   "cell_type": "code",
   "execution_count": 4,
   "id": "160529bc",
   "metadata": {},
   "outputs": [
    {
     "name": "stdout",
     "output_type": "stream",
     "text": [
      "Best Doc_ID: 56 | Score: 0.417\n",
      "Best answer found: Authorised users can connect using several options,  including ODBC/JDBC.\n",
      "Best Doc_ID: 26 | Score: 0.471\n",
      "Best answer found: Net Gaming Revenue (NGR) is calculated as Gross Gaming Revenue minus bonuses and adjustments.\n"
     ]
    }
   ],
   "source": [
    "from sklearn.metrics.pairwise import cosine_similarity\n",
    "import numpy as np\n",
    "\n",
    "output_pickle_path = os.path.join(data_dir, \"countvector_data.pkl\")\n",
    "\n",
    "# Function to find the most relevant answer based on the user's question (using a TF approach)\n",
    "def find_answer(user_question):\n",
    "    answer_doc_id = count_vector_matching(user_question)\n",
    "    answer = find_answer_by_id(answer_doc_id)\n",
    "    return answer\n",
    "\n",
    "def count_vector_matching(user_question):\n",
    "    with open(output_pickle_path, \"rb\") as f:\n",
    "        countvector_data = pickle.load(f)\n",
    "\n",
    "    vectorizer = countvector_data[\"vectorizer\"]\n",
    "    countvector_matrix = countvector_data[\"matrix\"]\n",
    "    doc_ids = countvector_data[\"doc_ids\"]\n",
    "\n",
    "    question_cleaned = clean_text(user_question)\n",
    "    query_vector = vectorizer.transform([question_cleaned])\n",
    "\n",
    "    similarities = cosine_similarity(query_vector, countvector_matrix).flatten()\n",
    "    best_idx = np.argmax(similarities)\n",
    "    best_doc_id = doc_ids[best_idx]\n",
    "\n",
    "    print(f\"Best Doc_ID: {best_doc_id} | Score: {similarities[best_idx]:.3f}\")\n",
    "    return best_doc_id\n",
    "\n",
    "# Example usage\n",
    "user_question = \"How do I connect to SQL?\"\n",
    "\n",
    "best_answer = find_answer(user_question)\n",
    "\n",
    "if best_answer:\n",
    "    print(f\"Best answer found: {best_answer}\")\n",
    "\n",
    "user_question = \"What is NGR?\"\n",
    "\n",
    "best_answer = find_answer(user_question)\n",
    "if best_answer:\n",
    "    print(f\"Best answer found: {best_answer}\")\n",
    "    "
   ]
  },
  {
   "cell_type": "code",
   "execution_count": 5,
   "id": "928c6a6e",
   "metadata": {},
   "outputs": [
    {
     "name": "stdout",
     "output_type": "stream",
     "text": [
      "Best Doc_ID: 56 | Score: 0.505\n",
      "Best answer found: Authorised users can connect using several options,  including ODBC/JDBC.\n",
      "Best Doc_ID: 26 | Score: 0.439\n",
      "Best answer found: Net Gaming Revenue (NGR) is calculated as Gross Gaming Revenue minus bonuses and adjustments.\n"
     ]
    }
   ],
   "source": [
    "from sklearn.metrics.pairwise import cosine_similarity\n",
    "import numpy as np\n",
    "\n",
    "output_pickle_path = os.path.join(data_dir, \"tfidf_bundle.pkl\")\n",
    "\n",
    "# Function to find the most relevant answer based on the user's question (using a TF approach)\n",
    "def find_answer(user_question):\n",
    "    answer_doc_id = tf_idf_matching(user_question)\n",
    "    answer = find_answer_by_id(answer_doc_id)\n",
    "    return answer\n",
    "\n",
    "def tf_idf_matching(user_question):\n",
    "    with open(\"../data/tfidf_data.pkl\", \"rb\") as f:\n",
    "        tfidf_data = pickle.load(f)\n",
    "\n",
    "    vectorizer = tfidf_data[\"vectorizer\"]\n",
    "    tfidf_matrix = tfidf_data[\"matrix\"]\n",
    "    doc_ids = tfidf_data[\"doc_ids\"]\n",
    "\n",
    "    question_cleaned = clean_text(user_question)\n",
    "    query_vector = vectorizer.transform([question_cleaned])\n",
    "\n",
    "    similarities = cosine_similarity(query_vector, tfidf_matrix).flatten()\n",
    "    best_idx = np.argmax(similarities)\n",
    "    best_doc_id = doc_ids[best_idx]\n",
    "\n",
    "    print(f\"Best Doc_ID: {best_doc_id} | Score: {similarities[best_idx]:.3f}\")\n",
    "    return best_doc_id\n",
    "\n",
    "# Example usage\n",
    "user_question = \"How do I connect to SQL?\"\n",
    "\n",
    "best_answer = find_answer(user_question)\n",
    "\n",
    "if best_answer:\n",
    "    print(f\"Best answer found: {best_answer}\")\n",
    "\n",
    "user_question = \"What is NGR?\"\n",
    "\n",
    "best_answer = find_answer(user_question)\n",
    "if best_answer:\n",
    "    print(f\"Best answer found: {best_answer}\")"
   ]
  }
 ],
 "metadata": {
  "kernelspec": {
   "display_name": ".venv",
   "language": "python",
   "name": "python3"
  },
  "language_info": {
   "codemirror_mode": {
    "name": "ipython",
    "version": 3
   },
   "file_extension": ".py",
   "mimetype": "text/x-python",
   "name": "python",
   "nbconvert_exporter": "python",
   "pygments_lexer": "ipython3",
   "version": "3.12.10"
  }
 },
 "nbformat": 4,
 "nbformat_minor": 5
}
